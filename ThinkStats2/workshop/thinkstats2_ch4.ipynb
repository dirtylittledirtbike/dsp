{
 "cells": [
  {
   "cell_type": "code",
   "execution_count": 2,
   "metadata": {},
   "outputs": [],
   "source": [
    "import nsfg\n",
    "import first\n",
    "import numpy as np\n",
    "import thinkstats2\n",
    "import thinkplot\n",
    "import matplotlib.pyplot as plt\n",
    "import pandas as pd"
   ]
  },
  {
   "cell_type": "code",
   "execution_count": 3,
   "metadata": {},
   "outputs": [],
   "source": [
    "preg = nsfg.ReadFemPreg()"
   ]
  },
  {
   "cell_type": "code",
   "execution_count": 4,
   "metadata": {},
   "outputs": [],
   "source": [
    "live, firsts, others = first.MakeFrames()"
   ]
  },
  {
   "cell_type": "code",
   "execution_count": 5,
   "metadata": {},
   "outputs": [
    {
     "data": {
      "image/png": "[encoded data removed]",
      "text/plain": [
       "<Figure size 432x288 with 1 Axes>"
      ]
     },
     "metadata": {
      "needs_background": "light"
     },
     "output_type": "display_data"
    }
   ],
   "source": [
    "plt.hist(firsts.totalwgt_lb, density=True, bins=50)\n",
    "firsts.totalwgt_lb.plot(kind=\"density\")\n",
    "plt.xlabel('weight_lb')\n",
    "plt.show()"
   ]
  },
  {
   "cell_type": "code",
   "execution_count": 6,
   "metadata": {},
   "outputs": [],
   "source": [
    "def percentile_rank(scores, your_score):\n",
    "    count = 0\n",
    "    for score in scores:\n",
    "        if score <= your_score:\n",
    "            count +=1\n",
    "        \n",
    "    pr = 100 * count/len(scores)\n",
    "    return pr"
   ]
  },
  {
   "cell_type": "code",
   "execution_count": 7,
   "metadata": {},
   "outputs": [],
   "source": [
    "def percentiles(scores, percentile_rank):\n",
    "    scores.sort()\n",
    "    idx = int(percentile_rank * (len(scores)-1)/100)\n",
    "    return scores[idx]"
   ]
  },
  {
   "cell_type": "code",
   "execution_count": 8,
   "metadata": {},
   "outputs": [
    {
     "data": {
      "text/plain": [
       "80.0"
      ]
     },
     "execution_count": 8,
     "metadata": {},
     "output_type": "execute_result"
    }
   ],
   "source": [
    "scores = [55, 66, 77, 88, 99]\n",
    "percentile_rank(scores, 88)"
   ]
  },
  {
   "cell_type": "code",
   "execution_count": 9,
   "metadata": {},
   "outputs": [
    {
     "data": {
      "text/plain": [
       "77"
      ]
     },
     "execution_count": 9,
     "metadata": {},
     "output_type": "execute_result"
    }
   ],
   "source": [
    "percentiles(scores, 50)"
   ]
  },
  {
   "cell_type": "code",
   "execution_count": 10,
   "metadata": {},
   "outputs": [],
   "source": [
    "def eval_cdf(t, x):\n",
    "    count = 0\n",
    "    for val in t:\n",
    "        if val <= x:\n",
    "            count += 1\n",
    "    return count/len(t)"
   ]
  },
  {
   "cell_type": "code",
   "execution_count": 11,
   "metadata": {},
   "outputs": [
    {
     "name": "stdout",
     "output_type": "stream",
     "text": [
      "CDF(0) = 0.0\n",
      "CDF(1) = 0.2\n",
      "CDF(2) = 0.6\n",
      "CDF(3) = 0.8\n",
      "CDF(4) = 0.8\n",
      "CDF(5) = 1.0\n"
     ]
    }
   ],
   "source": [
    "sample = [1, 2, 2, 3, 5]\n",
    "vals = np.arange(6)\n",
    "for val in vals:\n",
    "    print(\"CDF({}) =\".format(val), eval_cdf(sample, val))"
   ]
  },
  {
   "cell_type": "code",
   "execution_count": 12,
   "metadata": {},
   "outputs": [
    {
     "data": {
      "text/plain": [
       "Text(0, 0.5, 'CDF')"
      ]
     },
     "execution_count": 12,
     "metadata": {},
     "output_type": "execute_result"
    },
    {
     "data": {
      "image/png": "[encoded data removed]",
      "text/plain": [
       "<Figure size 432x288 with 1 Axes>"
      ]
     },
     "metadata": {
      "needs_background": "light"
     },
     "output_type": "display_data"
    }
   ],
   "source": [
    "cdfs = [eval_cdf(sample, val) for val in vals]\n",
    "plt.bar(vals, cdfs, width=1.0)\n",
    "plt.ylabel('CDF')"
   ]
  },
  {
   "cell_type": "code",
   "execution_count": 13,
   "metadata": {},
   "outputs": [
    {
     "data": {
      "image/png": "[encoded data removed]",
      "text/plain": [
       "<Figure size 432x288 with 1 Axes>"
      ]
     },
     "metadata": {
      "needs_background": "light"
     },
     "output_type": "display_data"
    }
   ],
   "source": [
    "live.prglngth.hist(cumulative=True, density=1, bins=50)\n",
    "plt.ylabel('CDF')\n",
    "plt.xlabel('weeks')\n",
    "plt.show()"
   ]
  },
  {
   "cell_type": "code",
   "execution_count": 14,
   "metadata": {},
   "outputs": [
    {
     "data": {
      "image/png": "[encoded data removed]",
      "text/plain": [
       "<Figure size 432x288 with 1 Axes>"
      ]
     },
     "metadata": {
      "needs_background": "light"
     },
     "output_type": "display_data"
    }
   ],
   "source": [
    "fig, ax = plt.subplots()\n",
    "firsts.totalwgt_lb.hist(cumulative=True, density=1,\n",
    "                                     bins=150, alpha=0.3, label='firsts')\n",
    "others.totalwgt_lb.hist(cumulative=True, density=1,\n",
    "                        bins=150, alpha=0.3, label='others')\n",
    "\n",
    "ax.legend([\"first\", \"others\"])\n",
    "ax.set_xlim([0, 12])\n",
    "ax.set_xlabel('weight (lbs)')\n",
    "ax.set_ylabel('CDF')\n",
    "plt.show()"
   ]
  },
  {
   "cell_type": "code",
   "execution_count": 15,
   "metadata": {},
   "outputs": [
    {
     "data": {
      "text/plain": [
       "array([ 9.1875,  7.625 ,  7.375 ,  6.3125,  8.125 ,  7.5   ,  9.    ,\n",
       "        6.875 ,  8.    ,  8.3125,  8.3125,  6.875 ,  7.    ,  7.75  ,\n",
       "        7.625 ,  7.9375,  6.3125,  5.375 ,  6.5   ,  7.6875,  6.8125,\n",
       "        6.5   ,  7.0625,  8.125 ,     nan,  5.25  ,  6.4375,  7.6875,\n",
       "        7.375 ,  9.125 ,  6.5625,  6.1875,  0.5625,  8.5   ,  6.3125,\n",
       "        7.4375,  8.6875,  7.125 ,  6.375 ,  9.375 ,  8.5625,  7.3125,\n",
       "        6.8125,  6.375 ,  8.25  ,  6.25  ,  7.25  ,  8.875 ,  7.    ,\n",
       "        8.1875,  8.3125,  6.6875,  8.875 ,  7.5625,  7.75  ,  7.5625,\n",
       "        7.375 , 10.    ,  6.5625,  7.875 ,  8.25  ,  6.125 ,  6.1875,\n",
       "        6.6875,  7.75  ,  6.5625,  7.25  ,  7.3125,  6.75  ,  7.125 ,\n",
       "        8.5   ,  6.625 ,  6.    ,  7.625 ,  7.5625,  6.5   ,  6.5625,\n",
       "        6.6875,  6.875 ,  8.4375,  8.4375,  5.6875,  7.5   ,  9.3125,\n",
       "        6.5625,  7.75  ,  6.    ,  9.    ,  7.5   ,  6.6875,  8.4375,\n",
       "        4.625 ,  6.1875,  6.3125,  8.    ,  9.875 ,  7.6875,  8.8125,\n",
       "        7.75  ,  8.5   ])"
      ]
     },
     "execution_count": 15,
     "metadata": {},
     "output_type": "execute_result"
    }
   ],
   "source": [
    "weights = live.totalwgt_lb\n",
    "sample_wgts = np.random.choice(weights, 100, replace=True)\n",
    "sample_wgts\n",
    "# plt.hist(sample_wgts, cumulative=True, density=1, bins=10)"
   ]
  },
  {
   "cell_type": "code",
   "execution_count": 16,
   "metadata": {},
   "outputs": [],
   "source": [
    "cdf = thinkstats2.Cdf(weights, label='totalwgt_lb')\n",
    "ranks = [cdf.PercentileRank(x) for x in sample_wgts]"
   ]
  },
  {
   "cell_type": "code",
   "execution_count": 17,
   "metadata": {
    "scrolled": true
   },
   "outputs": [
    {
     "data": {
      "image/png": "[encoded data removed]",
      "text/plain": [
       "<Figure size 432x288 with 1 Axes>"
      ]
     },
     "metadata": {
      "needs_background": "light"
     },
     "output_type": "display_data"
    },
    {
     "data": {
      "image/png": "[encoded data removed]",
      "text/plain": [
       "<Figure size 432x288 with 1 Axes>"
      ]
     },
     "metadata": {
      "needs_background": "light"
     },
     "output_type": "display_data"
    },
    {
     "data": {
      "text/plain": [
       "<Figure size 576x432 with 0 Axes>"
      ]
     },
     "metadata": {},
     "output_type": "display_data"
    }
   ],
   "source": [
    "plt.hist(ranks, cumulative=True, density=1, bins=100)\n",
    "plt.show()\n",
    "\n",
    "rank_cdf = thinkstats2.Cdf(ranks)\n",
    "thinkplot.Cdf(rank_cdf)\n",
    "thinkplot.Show(xlabel='percentile rank', ylabel='CDF')"
   ]
  },
  {
   "cell_type": "code",
   "execution_count": 18,
   "metadata": {},
   "outputs": [],
   "source": [
    "rand_uniform = np.random.random(1000)"
   ]
  },
  {
   "cell_type": "code",
   "execution_count": 19,
   "metadata": {
    "scrolled": true
   },
   "outputs": [
    {
     "data": {
      "image/png": "[encoded data removed]",
      "text/plain": [
       "<Figure size 432x288 with 1 Axes>"
      ]
     },
     "metadata": {
      "needs_background": "light"
     },
     "output_type": "display_data"
    }
   ],
   "source": [
    "def get_pmf(data):\n",
    "    vals, counts = np.unique(data, return_counts=True)\n",
    "    pmf = counts/len(data)\n",
    "    return pmf\n",
    "\n",
    "fig = plt.figure()\n",
    "plt.bar(rand_uniform, get_pmf(rand_uniform))\n",
    "plt.xlabel('values')\n",
    "plt.ylabel('PMF')\n",
    "plt.xlim([0,1])\n",
    "fig.savefig('PMF.png')\n"
   ]
  },
  {
   "cell_type": "code",
   "execution_count": 20,
   "metadata": {},
   "outputs": [
    {
     "data": {
      "image/png": "[encoded data removed]",
      "text/plain": [
       "<Figure size 432x288 with 1 Axes>"
      ]
     },
     "metadata": {
      "needs_background": "light"
     },
     "output_type": "display_data"
    }
   ],
   "source": [
    "fig = plt.figure()\n",
    "plt.hist(rand_uniform, cumulative=True, density=1, bins=100)\n",
    "plt.xlabel('values')\n",
    "plt.ylabel('CDF')\n",
    "plt.savefig('CDF.png')"
   ]
  },
  {
   "cell_type": "markdown",
   "metadata": {},
   "source": [
    "####  PMF and CDF for random uniform distribution:\n",
    "* The PMF should be a straight line since they are samples from a uniform distribution. ie the probabilities associated with each value will be the same prob(x) = 1/num_samples.<br><br>\n",
    "* The CDF should be a diagonal line since no value in the distribution has a greater probability than the ones that precede it.\n",
    "\n",
    "![uniform_PMF](PMF.png)\n",
    "![uniform_CDF](CDF.png)\n"
   ]
  },
  {
   "cell_type": "code",
   "execution_count": null,
   "metadata": {},
   "outputs": [],
   "source": []
  }
 ],
 "metadata": {
  "kernelspec": {
   "display_name": "Python 3",
   "language": "python",
   "name": "python3"
  },
  "language_info": {
   "codemirror_mode": {
    "name": "ipython",
    "version": 3
   },
   "file_extension": ".py",
   "mimetype": "text/x-python",
   "name": "python",
   "nbconvert_exporter": "python",
   "pygments_lexer": "ipython3",
   "version": "3.7.4"
  }
 },
 "nbformat": 4,
 "nbformat_minor": 4
}
