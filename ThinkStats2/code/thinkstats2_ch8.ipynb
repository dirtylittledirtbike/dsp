{
 "cells": [
  {
   "cell_type": "code",
   "execution_count": 3,
   "metadata": {},
   "outputs": [],
   "source": [
    "import numpy as np\n",
    "import brfss\n",
    "import thinkstats2\n",
    "import thinkplot\n",
    "import random"
   ]
  },
  {
   "cell_type": "code",
   "execution_count": 4,
   "metadata": {
    "scrolled": true
   },
   "outputs": [
    {
     "data": {
      "text/plain": [
       "0.45681688512596247"
      ]
     },
     "execution_count": 4,
     "metadata": {},
     "output_type": "execute_result"
    }
   ],
   "source": [
    "random.gauss(0, 1)"
   ]
  },
  {
   "cell_type": "code",
   "execution_count": 19,
   "metadata": {},
   "outputs": [],
   "source": [
    "def RMSE(estimates, actual):\n",
    "    e2 = [(estimate - actual)**2 for estimate in estimates]\n",
    "    mse = np.mean(e2)\n",
    "    return np.sqrt(mse)"
   ]
  },
  {
   "cell_type": "code",
   "execution_count": 48,
   "metadata": {},
   "outputs": [],
   "source": [
    "def estimate1(n=7, m=1000):\n",
    "    mu = 0\n",
    "    sigma = 1\n",
    "    \n",
    "    means = []\n",
    "    medians = []\n",
    "    for _ in range(m):\n",
    "        xs = [random.gauss(mu, sigma) for i in range(n)]\n",
    "        xbar = np.mean(xs)\n",
    "        median = np.median(xs)\n",
    "        means.append(xbar)\n",
    "        medians.append(median)\n",
    "    \n",
    "    print('rmse xbar:', RMSE(means, mu))\n",
    "    print('rmse median:', RMSE(medians, mu))"
   ]
  },
  {
   "cell_type": "code",
   "execution_count": 49,
   "metadata": {
    "scrolled": true
   },
   "outputs": [
    {
     "name": "stdout",
     "output_type": "stream",
     "text": [
      "rmse xbar: 0.3842449960404291\n",
      "rmse median: 0.4759810564261068\n"
     ]
    }
   ],
   "source": [
    "estimate1()"
   ]
  },
  {
   "cell_type": "code",
   "execution_count": 50,
   "metadata": {},
   "outputs": [],
   "source": [
    "def mean_error(estimates, actual):\n",
    "    errors = [estimate - actual for estimate in estimates]\n",
    "    return np.mean(errors)"
   ]
  },
  {
   "cell_type": "code",
   "execution_count": 51,
   "metadata": {},
   "outputs": [],
   "source": [
    "def estimate2(n=7, m=1000):\n",
    "    mu = 0\n",
    "    sigma = 1\n",
    "    \n",
    "    estimates1 = []\n",
    "    estimates2 = []\n",
    "    for _ in range(m):\n",
    "        xs = [random.gauss(mu, sigma) for i in range(n)]\n",
    "        biased = np.var(xs)\n",
    "        unbiased = np.var(xs, ddof=1)\n",
    "        estimates1.append(biased)\n",
    "        estimates2.append(unbiased)\n",
    "    \n",
    "    print(\"mean error biased:\", mean_error(estimates1, sigma**2))\n",
    "    print(\"mean error biased:\", mean_error(estimates2, sigma**2))"
   ]
  },
  {
   "cell_type": "code",
   "execution_count": 52,
   "metadata": {},
   "outputs": [
    {
     "name": "stdout",
     "output_type": "stream",
     "text": [
      "mean error biased: -0.1124823976262494\n",
      "mean error biased: 0.0354372027693757\n"
     ]
    }
   ],
   "source": [
    "estimate2()"
   ]
  },
  {
   "cell_type": "code",
   "execution_count": 55,
   "metadata": {},
   "outputs": [],
   "source": [
    "def simulate_sample(mu=90, sigma=7.5, n=9, m=1000):\n",
    "    means = []\n",
    "    for j in range(m):\n",
    "        xs = np.random.normal(mu, sigma, n)\n",
    "        xbar = np.mean(xs)\n",
    "        means.append(xbar)\n",
    "        \n",
    "#     cdf = thinkstats2.MakeCdfFromList(means)\n",
    "#     ci = cdf.Percentile(5), cdf.Percentile(95)\n",
    "#     stderr = RMSE(means, mu)\n",
    "    return means "
   ]
  },
  {
   "cell_type": "code",
   "execution_count": 61,
   "metadata": {},
   "outputs": [
    {
     "data": {
      "image/png": "[encoded data removed]",
      "text/plain": [
       "<Figure size 432x288 with 1 Axes>"
      ]
     },
     "metadata": {
      "needs_background": "light"
     },
     "output_type": "display_data"
    }
   ],
   "source": [
    "cdf = thinkstats2.Cdf(simulate_sample())\n",
    "thinkplot.Cdf(cdf)\n",
    "thinkplot.Config(xlabel='sample mean', ylabel='CDF')"
   ]
  },
  {
   "cell_type": "code",
   "execution_count": 86,
   "metadata": {},
   "outputs": [],
   "source": [
    "import math \n",
    "\n",
    "def estimate3(n=7, m=1000):\n",
    "    lam = 2\n",
    "    means = []\n",
    "    medians = []\n",
    "    \n",
    "    for _ in range(m):\n",
    "        xs = np.random.exponential(1.0/lam, n)\n",
    "        L = 1/np.mean(xs)\n",
    "        Lm = np.log(2) / thinkstats2.Median(xs)\n",
    "        means.append(L)\n",
    "        medians.append(Lm)\n",
    "        \n",
    "    print('rmse L', RMSE(means, lam))\n",
    "    print('rmse Lm', RMSE(medians, lam))\n",
    "    print('mean error L', mean_error(means, lam))\n",
    "    print('mean error Lm', mean_error(medians, lam))"
   ]
  },
  {
   "cell_type": "code",
   "execution_count": 96,
   "metadata": {
    "scrolled": true
   },
   "outputs": [
    {
     "name": "stdout",
     "output_type": "stream",
     "text": [
      "rmse L 1.082715157344542\n",
      "rmse Lm 1.6274882068011536\n",
      "mean error L 0.3287252706888701\n",
      "mean error Lm 0.4374601804771769\n"
     ]
    }
   ],
   "source": [
    "estimate3()"
   ]
  },
  {
   "cell_type": "code",
   "execution_count": null,
   "metadata": {},
   "outputs": [],
   "source": [
    "# exercise 1"
   ]
  },
  {
   "cell_type": "code",
   "execution_count": 343,
   "metadata": {},
   "outputs": [],
   "source": [
    "def bias_test1(n=7, sims=1000):\n",
    "    mu = 0\n",
    "    sigma = 1\n",
    "    medians = []\n",
    "    means = []\n",
    "    \n",
    "    for i in range(sims):\n",
    "        sample = [random.gauss(mu, sigma) for i in range(n)]\n",
    "        sample_mean = np.mean(sample)\n",
    "        sample_median = np.median(sample)\n",
    "        means.append(sample_mean)\n",
    "        medians.append(sample_median)\n",
    "        \n",
    "    print('Mean error xbar with {} iterations'.format(sims), mean_error(means, mu))\n",
    "    print('Mean error median with {} iterations'.format(sims), mean_error(medians, mu))\n",
    "    print() "
   ]
  },
  {
   "cell_type": "code",
   "execution_count": 352,
   "metadata": {},
   "outputs": [],
   "source": [
    "def bias_test2(n=7, sims=1000):\n",
    "    mu = 0\n",
    "    sigma = 1\n",
    "    \n",
    "    biased_estimates = []\n",
    "    unbiased_estimates = []\n",
    "    \n",
    "    for i in range(sims):\n",
    "        xs = [random.gauss(mu, sigma) for i in range(n)]\n",
    "        biased = np.var(xs)\n",
    "        unbiased = np.var(xs, ddof=1)\n",
    "        biased_estimates.append(biased)\n",
    "        unbiased_estimates.append(unbiased)\n",
    "        \n",
    "    print('RMSE (biased) with {} iterations:'.format(sims),\\\n",
    "          RMSE(biased_estimates, sigma**2)) \n",
    "    \n",
    "    print('RMSE (unbiased) with {} iterations'.format(sims),\\\n",
    "          RMSE(unbiased_estimates, sigma**2))\n",
    "    print()"
   ]
  },
  {
   "cell_type": "code",
   "execution_count": 355,
   "metadata": {},
   "outputs": [
    {
     "name": "stdout",
     "output_type": "stream",
     "text": [
      "Mean error xbar with 100 iterations -0.004859565954078076\n",
      "Mean error median with 100 iterations -0.006484800999858256\n",
      "\n",
      "Mean error xbar with 100000 iterations 0.0006877612365771352\n",
      "Mean error median with 100000 iterations 0.0011394102241477002\n",
      "\n"
     ]
    }
   ],
   "source": [
    "bias_test1(sims=100)\n",
    "bias_test1(sims=100000)"
   ]
  },
  {
   "cell_type": "code",
   "execution_count": 392,
   "metadata": {
    "scrolled": true
   },
   "outputs": [
    {
     "name": "stdout",
     "output_type": "stream",
     "text": [
      "RMSE (biased) with 1000 iterations: 0.5293433096319883\n",
      "RMSE (unbiased) with 1000 iterations 0.6013656687574124\n",
      "\n",
      "RMSE (biased) with 100000 iterations: 0.5166232376736958\n",
      "RMSE (unbiased) with 100000 iterations 0.5793974619893391\n",
      "\n"
     ]
    }
   ],
   "source": [
    "bias_test2(sims=1000)\n",
    "bias_test2(sims=100000)"
   ]
  },
  {
   "cell_type": "code",
   "execution_count": null,
   "metadata": {},
   "outputs": [],
   "source": [
    "# exercises 2"
   ]
  },
  {
   "cell_type": "code",
   "execution_count": 346,
   "metadata": {},
   "outputs": [],
   "source": [
    "def expon_estimate(n=10, m=1000):\n",
    "    lam = 2\n",
    "    means = []\n",
    "    medians = []\n",
    "    \n",
    "    for _ in range(m):\n",
    "        xs = np.random.exponential(1.0/lam, n)\n",
    "        L = 1/np.mean(xs)\n",
    "        Lm = np.log(2) / thinkstats2.Median(xs)\n",
    "        means.append(L)\n",
    "        medians.append(Lm)\n",
    "        \n",
    "    return means, medians, RMSE(means, lam)"
   ]
  },
  {
   "cell_type": "code",
   "execution_count": 347,
   "metadata": {},
   "outputs": [
    {
     "data": {
      "image/png": "[encoded data removed]",
      "text/plain": [
       "<Figure size 432x288 with 1 Axes>"
      ]
     },
     "metadata": {
      "needs_background": "light"
     },
     "output_type": "display_data"
    }
   ],
   "source": [
    "expon_sample_means, epon_sample_medians, rmse = expon_estimate()\n",
    "expon_cdf = thinkstats2.Cdf(expon_sample_means)\n",
    "ci_lower, ci_upper = expon_cdf.Percentile(5), expon_cdf.Percentile(95)\n",
    "\n",
    "thinkplot.Cdf(expon_cdf)\n",
    "thinkplot.Config(xlabel='expon_estimates', ylabel='CDF', title='Sample Dist')"
   ]
  },
  {
   "cell_type": "code",
   "execution_count": 390,
   "metadata": {
    "scrolled": true
   },
   "outputs": [
    {
     "name": "stdout",
     "output_type": "stream",
     "text": [
      "Confidence interval: 1.2643307825818018 to 3.719350661228308\n"
     ]
    },
    {
     "data": {
      "image/png": "[encoded data removed]",
      "text/plain": [
       "<Figure size 432x288 with 1 Axes>"
      ]
     },
     "metadata": {
      "needs_background": "light"
     },
     "output_type": "display_data"
    }
   ],
   "source": [
    "import matplotlib.pyplot as plt\n",
    "\n",
    "plt.title('Sample Dist')\n",
    "plt.hist(expon_sample_means, cumulative=True, density=1, bins=500, color='lavender')\n",
    "plt.plot([ci_lower, ci_lower], [0,1], color='maroon')\n",
    "plt.plot([ci_upper, ci_upper], [0,1], color='maroon')\n",
    "plt.ylabel('CDF')\n",
    "plt.xlim([0.5, 6])\n",
    "plt.xlabel('expon_estimates')\n",
    "plt.savefig('expon_sample_dist.png')\n",
    "print('Confidence interval: {} to {}'.format(ci_lower, ci_upper))"
   ]
  },
  {
   "cell_type": "code",
   "execution_count": 349,
   "metadata": {},
   "outputs": [],
   "source": [
    "rmses = []\n",
    "for i in range(5, 50):\n",
    "    mean, median, rmse = expon_estimate(n=i, m=1000)\n",
    "    rmses.append(rmse)"
   ]
  },
  {
   "cell_type": "code",
   "execution_count": 391,
   "metadata": {
    "scrolled": true
   },
   "outputs": [
    {
     "data": {
      "image/png": "[encoded data removed]",
      "text/plain": [
       "<Figure size 432x288 with 1 Axes>"
      ]
     },
     "metadata": {
      "needs_background": "light"
     },
     "output_type": "display_data"
    }
   ],
   "source": [
    "plt.title('RMSE vs Sample Size')\n",
    "plt.scatter(range(len(rmses)), rmses)\n",
    "plt.plot(range(len(rmses)), rmses)\n",
    "plt.ylabel('RMSE')\n",
    "plt.xlabel('sample size')\n",
    "plt.savefig('rmse_sample_sizes.png')"
   ]
  },
  {
   "cell_type": "code",
   "execution_count": null,
   "metadata": {},
   "outputs": [],
   "source": [
    "# exercise 3"
   ]
  },
  {
   "cell_type": "code",
   "execution_count": 507,
   "metadata": {},
   "outputs": [],
   "source": [
    "def score_simulator(lam):\n",
    "    score = 0\n",
    "    timer = 0\n",
    "    while timer < 1:\n",
    "        timer += np.random.exponential(1/lam)\n",
    "        score +=1\n",
    "    return score"
   ]
  },
  {
   "cell_type": "code",
   "execution_count": 579,
   "metadata": {},
   "outputs": [],
   "source": [
    "def game_simulator(lam, num_games):\n",
    "    est = [score_simulator(lam) for i in range(num_games)]\n",
    "    rmse = RMSE(est, lam)\n",
    "    stderr = mean_error(est, lam)\n",
    "    cdf = thinkstats2.Cdf(est)\n",
    "    ci = cdf.Percentile(5), cdf.Percentile(95)\n",
    "    print('confidence interval:', ci)\n",
    "    print('stderr', stderr)\n",
    "    print('RMSE', rmse)\n",
    "    \n",
    "    return est"
   ]
  },
  {
   "cell_type": "code",
   "execution_count": 575,
   "metadata": {},
   "outputs": [
    {
     "name": "stdout",
     "output_type": "stream",
     "text": [
      "confidence interval: (1, 6)\n",
      "stderr 1.0074\n",
      "RMSE 1.7291616465790582\n"
     ]
    }
   ],
   "source": [
    "games = game_simulator(lam=2, num_games=10000)"
   ]
  },
  {
   "cell_type": "code",
   "execution_count": 548,
   "metadata": {
    "scrolled": false
   },
   "outputs": [
    {
     "data": {
      "image/png": "[encoded data removed]",
      "text/plain": [
       "<Figure size 432x288 with 1 Axes>"
      ]
     },
     "metadata": {
      "needs_background": "light"
     },
     "output_type": "display_data"
    }
   ],
   "source": [
    "plt.hist(games, density=1, bins=10)\n",
    "plt.ylabel('PMF')\n",
    "plt.xlabel('goals')\n",
    "plt.savefig('goals.png')"
   ]
  },
  {
   "cell_type": "code",
   "execution_count": 581,
   "metadata": {},
   "outputs": [
    {
     "name": "stdout",
     "output_type": "stream",
     "text": [
      "stderr 0.957\n",
      "stderr 1.017\n",
      "stderr 1.025\n",
      "stderr 1.011\n",
      "stderr 0.91\n",
      "stderr 1.079\n",
      "stderr 0.9\n",
      "stderr 1.09\n",
      "stderr 1.01\n",
      "stderr 1.141\n",
      "stderr 1.063\n",
      "stderr 1.039\n",
      "stderr 0.981\n",
      "stderr 1.06\n",
      "stderr 1.024\n",
      "stderr 0.743\n",
      "stderr 1.167\n",
      "stderr 0.67\n",
      "stderr 1.349\n",
      "stderr 0.997\n",
      "stderr 0.816\n",
      "stderr 1.096\n",
      "stderr 1.036\n",
      "stderr 0.951\n",
      "stderr 1.048\n",
      "stderr 1.032\n",
      "stderr 0.929\n",
      "stderr 1.427\n",
      "stderr 1.099\n",
      "stderr 1.099\n",
      "stderr 0.977\n",
      "stderr 0.758\n",
      "stderr 1.026\n",
      "stderr 1.325\n",
      "stderr 1.023\n",
      "stderr 1.034\n",
      "stderr 1.167\n",
      "stderr 0.735\n",
      "stderr 1.286\n",
      "stderr 1.057\n",
      "stderr 1.047\n",
      "stderr 1.213\n",
      "stderr 0.882\n",
      "stderr 0.897\n",
      "stderr 0.89\n",
      "stderr 1.155\n",
      "stderr 0.601\n",
      "stderr 1.149\n",
      "stderr 1.268\n",
      "stderr 1.194\n",
      "stderr 1.209\n",
      "stderr 0.926\n",
      "stderr 1.19\n",
      "stderr 1.015\n",
      "stderr 1.23\n",
      "stderr 0.939\n",
      "stderr 1.167\n",
      "stderr 0.991\n",
      "stderr 1.289\n",
      "stderr 1.148\n",
      "stderr 0.618\n",
      "stderr 1.329\n",
      "stderr 0.795\n",
      "stderr 0.496\n",
      "stderr 1.128\n",
      "stderr 0.523\n",
      "stderr 0.606\n",
      "stderr 0.262\n",
      "stderr 1.124\n",
      "stderr 0.404\n",
      "stderr 0.403\n",
      "stderr 0.943\n",
      "stderr 0.553\n",
      "stderr 1.391\n",
      "stderr 1.59\n",
      "stderr 0.817\n",
      "stderr 0.763\n",
      "stderr 0.746\n",
      "stderr 0.921\n",
      "stderr 0.856\n",
      "stderr 1.007\n",
      "stderr 0.959\n",
      "stderr 1.203\n",
      "stderr 0.912\n",
      "stderr 1.045\n",
      "stderr 0.8\n",
      "stderr 0.951\n",
      "stderr 0.907\n",
      "stderr 0.75\n",
      "stderr 0.422\n",
      "stderr 0.834\n",
      "stderr 1.054\n",
      "stderr 1.405\n",
      "stderr 0.724\n",
      "stderr 1.004\n",
      "stderr 1.382\n",
      "stderr 0.569\n",
      "stderr 0.965\n",
      "stderr 0.832\n"
     ]
    }
   ],
   "source": [
    "for i in range(1,100):\n",
    "    game_simulator(lam=i, num_games=1000)"
   ]
  },
  {
   "cell_type": "code",
   "execution_count": 568,
   "metadata": {},
   "outputs": [],
   "source": [
    "### markdown "
   ]
  },
  {
   "cell_type": "markdown",
   "metadata": {},
   "source": [
    "### Exercise 8-1:\n",
    "Mean error xbar with 1000 iterations -0.006220527601712476 <br>\n",
    "Mean error median with 1000 iterations -0.005275135799537794 <br><br>\n",
    "\n",
    "Mean error xbar with 100000 iterations 0.00017962760594859587<br>\n",
    "Mean error median with 100000 iterations -0.0005995797492975744<br>\n",
    "\n",
    "RMSE (biased) with 1000 iterations: 0.5293433096319883<br>\n",
    "RMSE (unbiased) with 1000 iterations 0.6013656687574124<br><br>\n",
    "\n",
    "RMSE (biased) with 100000 iterations: 0.5166232376736958<br>\n",
    "RMSE (unbiased) with 100000 iterations 0.5793974619893391<br>\n",
    "\n",
    "#### Conclusion: \n",
    "Increasing the number of simulations for estimating the mean and median did have an impact i.e. as the number of simulations increased the mean error for the mean and median approached 0, suggesting no clear bias. When running simulations for estimating variance\n",
    "the biased estimator had a lower RMSE than the unbiased estimator even when the number of simulations increased.\n",
    "\n",
    "### Exercise 8-2:\n",
    "* Confidence interval: 1.2643307825818018 to 3.719350661228308\n",
    "![expon_dist](expon_sample_dist.png)\n",
    "\n",
    "![RMSE_v_sample_size](rmse_sample_sizes.png)\n",
    "\n",
    "### Exercise 8-3:\n",
    "![goals](goals.png)\n",
    "* stderr 0.9975<br>\n",
    "* RMSE 1.7301<br>\n",
    "* confidence interval: (1, 6)\n",
    "* As lambda increases the RMSE does as well. But that's just because the value of lambda is getting larger. "
   ]
  },
  {
   "cell_type": "code",
   "execution_count": null,
   "metadata": {},
   "outputs": [],
   "source": []
  }
 ],
 "metadata": {
  "kernelspec": {
   "display_name": "Python 3",
   "language": "python",
   "name": "python3"
  },
  "language_info": {
   "codemirror_mode": {
    "name": "ipython",
    "version": 3
   },
   "file_extension": ".py",
   "mimetype": "text/x-python",
   "name": "python",
   "nbconvert_exporter": "python",
   "pygments_lexer": "ipython3",
   "version": "3.7.4"
  }
 },
 "nbformat": 4,
 "nbformat_minor": 4
}
