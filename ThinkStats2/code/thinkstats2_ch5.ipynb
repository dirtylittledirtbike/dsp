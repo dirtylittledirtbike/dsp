{
 "cells": [
  {
   "cell_type": "code",
   "execution_count": 1,
   "metadata": {},
   "outputs": [],
   "source": [
    "import nsfg\n",
    "import first\n",
    "import numpy as np\n",
    "import thinkstats2\n",
    "import thinkplot\n",
    "import matplotlib.pyplot as plt\n",
    "import pandas as pd\n",
    "import analytic"
   ]
  },
  {
   "cell_type": "code",
   "execution_count": 2,
   "metadata": {},
   "outputs": [],
   "source": [
    "df = analytic.ReadBabyBoom()\n",
    "diffs = df.minutes.diff()\n",
    "# cdf = "
   ]
  },
  {
   "cell_type": "code",
   "execution_count": 3,
   "metadata": {},
   "outputs": [
    {
     "data": {
      "text/html": [
       "<div>\n",
       "<style scoped>\n",
       "    .dataframe tbody tr th:only-of-type {\n",
       "        vertical-align: middle;\n",
       "    }\n",
       "\n",
       "    .dataframe tbody tr th {\n",
       "        vertical-align: top;\n",
       "    }\n",
       "\n",
       "    .dataframe thead th {\n",
       "        text-align: right;\n",
       "    }\n",
       "</style>\n",
       "<table border=\"1\" class=\"dataframe\">\n",
       "  <thead>\n",
       "    <tr style=\"text-align: right;\">\n",
       "      <th></th>\n",
       "      <th>time</th>\n",
       "      <th>sex</th>\n",
       "      <th>weight_g</th>\n",
       "      <th>minutes</th>\n",
       "    </tr>\n",
       "  </thead>\n",
       "  <tbody>\n",
       "    <tr>\n",
       "      <th>0</th>\n",
       "      <td>5</td>\n",
       "      <td>1</td>\n",
       "      <td>3837</td>\n",
       "      <td>5</td>\n",
       "    </tr>\n",
       "    <tr>\n",
       "      <th>1</th>\n",
       "      <td>104</td>\n",
       "      <td>1</td>\n",
       "      <td>3334</td>\n",
       "      <td>64</td>\n",
       "    </tr>\n",
       "    <tr>\n",
       "      <th>2</th>\n",
       "      <td>118</td>\n",
       "      <td>2</td>\n",
       "      <td>3554</td>\n",
       "      <td>78</td>\n",
       "    </tr>\n",
       "    <tr>\n",
       "      <th>3</th>\n",
       "      <td>155</td>\n",
       "      <td>2</td>\n",
       "      <td>3838</td>\n",
       "      <td>115</td>\n",
       "    </tr>\n",
       "    <tr>\n",
       "      <th>4</th>\n",
       "      <td>257</td>\n",
       "      <td>2</td>\n",
       "      <td>3625</td>\n",
       "      <td>177</td>\n",
       "    </tr>\n",
       "  </tbody>\n",
       "</table>\n",
       "</div>"
      ],
      "text/plain": [
       "   time  sex  weight_g  minutes\n",
       "0     5    1      3837        5\n",
       "1   104    1      3334       64\n",
       "2   118    2      3554       78\n",
       "3   155    2      3838      115\n",
       "4   257    2      3625      177"
      ]
     },
     "execution_count": 3,
     "metadata": {},
     "output_type": "execute_result"
    }
   ],
   "source": [
    "df.head(5)"
   ]
  },
  {
   "cell_type": "code",
   "execution_count": 4,
   "metadata": {
    "scrolled": false
   },
   "outputs": [
    {
     "data": {
      "text/html": [
       "<div>\n",
       "<style scoped>\n",
       "    .dataframe tbody tr th:only-of-type {\n",
       "        vertical-align: middle;\n",
       "    }\n",
       "\n",
       "    .dataframe tbody tr th {\n",
       "        vertical-align: top;\n",
       "    }\n",
       "\n",
       "    .dataframe thead th {\n",
       "        text-align: right;\n",
       "    }\n",
       "</style>\n",
       "<table border=\"1\" class=\"dataframe\">\n",
       "  <thead>\n",
       "    <tr style=\"text-align: right;\">\n",
       "      <th></th>\n",
       "      <th>time</th>\n",
       "      <th>sex</th>\n",
       "      <th>weight_g</th>\n",
       "      <th>minutes</th>\n",
       "    </tr>\n",
       "  </thead>\n",
       "  <tbody>\n",
       "    <tr>\n",
       "      <th>count</th>\n",
       "      <td>44.000000</td>\n",
       "      <td>44.000000</td>\n",
       "      <td>44.000000</td>\n",
       "      <td>44.000000</td>\n",
       "    </tr>\n",
       "    <tr>\n",
       "      <th>mean</th>\n",
       "      <td>1296.000000</td>\n",
       "      <td>1.590909</td>\n",
       "      <td>3275.954545</td>\n",
       "      <td>788.727273</td>\n",
       "    </tr>\n",
       "    <tr>\n",
       "      <th>std</th>\n",
       "      <td>690.704561</td>\n",
       "      <td>0.497350</td>\n",
       "      <td>528.032458</td>\n",
       "      <td>416.066931</td>\n",
       "    </tr>\n",
       "    <tr>\n",
       "      <th>min</th>\n",
       "      <td>5.000000</td>\n",
       "      <td>1.000000</td>\n",
       "      <td>1745.000000</td>\n",
       "      <td>5.000000</td>\n",
       "    </tr>\n",
       "    <tr>\n",
       "      <th>25%</th>\n",
       "      <td>792.750000</td>\n",
       "      <td>1.000000</td>\n",
       "      <td>3141.500000</td>\n",
       "      <td>482.750000</td>\n",
       "    </tr>\n",
       "    <tr>\n",
       "      <th>50%</th>\n",
       "      <td>1406.500000</td>\n",
       "      <td>2.000000</td>\n",
       "      <td>3404.000000</td>\n",
       "      <td>846.500000</td>\n",
       "    </tr>\n",
       "    <tr>\n",
       "      <th>75%</th>\n",
       "      <td>1918.500000</td>\n",
       "      <td>2.000000</td>\n",
       "      <td>3571.750000</td>\n",
       "      <td>1158.500000</td>\n",
       "    </tr>\n",
       "    <tr>\n",
       "      <th>max</th>\n",
       "      <td>2355.000000</td>\n",
       "      <td>2.000000</td>\n",
       "      <td>4162.000000</td>\n",
       "      <td>1435.000000</td>\n",
       "    </tr>\n",
       "  </tbody>\n",
       "</table>\n",
       "</div>"
      ],
      "text/plain": [
       "              time        sex     weight_g      minutes\n",
       "count    44.000000  44.000000    44.000000    44.000000\n",
       "mean   1296.000000   1.590909  3275.954545   788.727273\n",
       "std     690.704561   0.497350   528.032458   416.066931\n",
       "min       5.000000   1.000000  1745.000000     5.000000\n",
       "25%     792.750000   1.000000  3141.500000   482.750000\n",
       "50%    1406.500000   2.000000  3404.000000   846.500000\n",
       "75%    1918.500000   2.000000  3571.750000  1158.500000\n",
       "max    2355.000000   2.000000  4162.000000  1435.000000"
      ]
     },
     "execution_count": 4,
     "metadata": {},
     "output_type": "execute_result"
    }
   ],
   "source": [
    "df.describe()"
   ]
  },
  {
   "cell_type": "code",
   "execution_count": 5,
   "metadata": {},
   "outputs": [
    {
     "data": {
      "image/png": "[encoded data removed]",
      "text/plain": [
       "<Figure size 432x288 with 1 Axes>"
      ]
     },
     "metadata": {
      "needs_background": "light"
     },
     "output_type": "display_data"
    }
   ],
   "source": [
    "# just taking a look at the distribution...\n",
    "plt.hist(diffs, bins=10)\n",
    "plt.show()"
   ]
  },
  {
   "cell_type": "code",
   "execution_count": 6,
   "metadata": {
    "scrolled": false
   },
   "outputs": [
    {
     "data": {
      "image/png": "[encoded data removed]",
      "text/plain": [
       "<Figure size 432x288 with 1 Axes>"
      ]
     },
     "metadata": {
      "needs_background": "light"
     },
     "output_type": "display_data"
    }
   ],
   "source": [
    "diffs.hist(density=1, cumulative=True, bins=44)\n",
    "plt.show()"
   ]
  },
  {
   "cell_type": "code",
   "execution_count": 7,
   "metadata": {
    "scrolled": false
   },
   "outputs": [
    {
     "data": {
      "text/plain": [
       "1.0     0.023256\n",
       "2.0     0.116279\n",
       "4.0     0.139535\n",
       "9.0     0.186047\n",
       "13.0    0.232558\n",
       "Name: minutes, dtype: float64"
      ]
     },
     "execution_count": 7,
     "metadata": {},
     "output_type": "execute_result"
    }
   ],
   "source": [
    "# calculating the cdf myself for fun\n",
    "def get_percentile_rank(pd_series):\n",
    "    test = pd_series.value_counts(normalize=True)\n",
    "    return test\n",
    "\n",
    "def get_cdf(pd_series):\n",
    "    prb = get_percentile_rank(pd_series)\n",
    "    return np.cumsum(prb.sort_index())\n",
    "\n",
    "my_cdf = get_cdf(diffs)\n",
    "my_cdf.head(5)"
   ]
  },
  {
   "cell_type": "code",
   "execution_count": 8,
   "metadata": {},
   "outputs": [
    {
     "data": {
      "image/png": "[encoded data removed]",
      "text/plain": [
       "<Figure size 432x288 with 1 Axes>"
      ]
     },
     "metadata": {
      "needs_background": "light"
     },
     "output_type": "display_data"
    }
   ],
   "source": [
    "# this didnt really work (sticking to documentation)\n",
    "cdf_all_vals = np.array([my_cdf[val] for val in diffs.dropna()])\n",
    "plt.bar(diffs.dropna().values, 1-cdf_all_vals)\n",
    "plt.yscale('log')"
   ]
  },
  {
   "cell_type": "code",
   "execution_count": 9,
   "metadata": {
    "scrolled": true
   },
   "outputs": [
    {
     "data": {
      "image/png": "[encoded data removed]",
      "text/plain": [
       "<Figure size 432x288 with 1 Axes>"
      ]
     },
     "metadata": {
      "needs_background": "light"
     },
     "output_type": "display_data"
    },
    {
     "data": {
      "text/plain": [
       "<Figure size 576x432 with 0 Axes>"
      ]
     },
     "metadata": {},
     "output_type": "display_data"
    }
   ],
   "source": [
    "cdf = thinkstats2.Cdf(diffs, label='actual')\n",
    "thinkplot.Cdf(cdf)\n",
    "thinkplot.Show(xlabel='minutes', ylabel='CDF')"
   ]
  },
  {
   "cell_type": "code",
   "execution_count": 10,
   "metadata": {},
   "outputs": [
    {
     "data": {
      "image/png": "[encoded data removed]",
      "text/plain": [
       "<Figure size 432x288 with 1 Axes>"
      ]
     },
     "metadata": {
      "needs_background": "light"
     },
     "output_type": "display_data"
    },
    {
     "data": {
      "text/plain": [
       "<Figure size 576x432 with 0 Axes>"
      ]
     },
     "metadata": {},
     "output_type": "display_data"
    }
   ],
   "source": [
    "thinkplot.Cdf(cdf, complement=True)\n",
    "thinkplot.Show(xlabel='minutes', ylabel='CCDF', yscale='log')"
   ]
  },
  {
   "cell_type": "code",
   "execution_count": 11,
   "metadata": {},
   "outputs": [],
   "source": [
    "import scipy.stats as stats"
   ]
  },
  {
   "cell_type": "code",
   "execution_count": 12,
   "metadata": {},
   "outputs": [],
   "source": [
    "rand_norm_vals = np.random.normal(loc=1, scale=0.5, size=1000)\n",
    "rand_norm_vals2 = np.random.normal(loc=2, scale=0.4, size=1000)\n",
    "rand_norm_vals3 = np.random.normal(loc=3, scale=0.3, size=1000)"
   ]
  },
  {
   "cell_type": "code",
   "execution_count": 13,
   "metadata": {},
   "outputs": [
    {
     "data": {
      "image/png": "[encoded data removed]",
      "text/plain": [
       "<Figure size 432x288 with 1 Axes>"
      ]
     },
     "metadata": {
      "needs_background": "light"
     },
     "output_type": "display_data"
    }
   ],
   "source": [
    "plt.bar(rand_norm_vals, stats.norm.cdf(rand_norm_vals, loc=1, scale=.5))\n",
    "plt.bar(rand_norm_vals2, stats.norm.cdf(rand_norm_vals2, loc=2, scale=.4))\n",
    "plt.bar(rand_norm_vals3, stats.norm.cdf(rand_norm_vals3, loc=3, scale=.3))\n",
    "plt.show()"
   ]
  },
  {
   "cell_type": "code",
   "execution_count": 14,
   "metadata": {},
   "outputs": [],
   "source": [
    "preg = nsfg.ReadFemPreg()\n",
    "weights = preg.totalwgt_lb.dropna()\n",
    "weights_adj = weights[weights.between(weights.quantile(.01), weights.quantile(.99))]"
   ]
  },
  {
   "cell_type": "code",
   "execution_count": 15,
   "metadata": {
    "scrolled": true
   },
   "outputs": [
    {
     "data": {
      "image/png": "[encoded data removed]",
      "text/plain": [
       "<Figure size 432x288 with 1 Axes>"
      ]
     },
     "metadata": {
      "needs_background": "light"
     },
     "output_type": "display_data"
    }
   ],
   "source": [
    "u = weights_adj.mean()\n",
    "sigma = weights_adj.std()\n",
    "\n",
    "weights_cdf = get_cdf(weights_adj)\n",
    "# actual\n",
    "plt.bar(weights_adj, np.array([weights_cdf[val] for val in weights_adj.dropna()]))\n",
    "# model\n",
    "plt.bar(weights_adj, stats.norm.cdf(weights_adj, loc=u, scale=sigma))\n",
    "plt.show()"
   ]
  },
  {
   "cell_type": "code",
   "execution_count": 16,
   "metadata": {},
   "outputs": [
    {
     "data": {
      "text/plain": [
       "7.2815674379232505"
      ]
     },
     "execution_count": 16,
     "metadata": {},
     "output_type": "execute_result"
    }
   ],
   "source": [
    "weights_adj.mean()"
   ]
  },
  {
   "cell_type": "code",
   "execution_count": 17,
   "metadata": {},
   "outputs": [
    {
     "name": "stdout",
     "output_type": "stream",
     "text": [
      "Mean, Var 7.280883100022579 1.5452125703544901\n",
      "Sigma 1.2430657948614345\n"
     ]
    },
    {
     "data": {
      "image/png": "[encoded data removed]",
      "text/plain": [
       "<Figure size 432x288 with 1 Axes>"
      ]
     },
     "metadata": {
      "needs_background": "light"
     },
     "output_type": "display_data"
    }
   ],
   "source": [
    "mu, var = thinkstats2.TrimmedMeanVar(weights, p=0.01)\n",
    "print('Mean, Var', mu, var)\n",
    "    \n",
    "# model\n",
    "sigma = np.sqrt(var)\n",
    "print('Sigma', sigma)\n",
    "xs, ps = thinkstats2.RenderNormalCdf(mu, sigma, low=0, high=12.5)\n",
    "\n",
    "thinkplot.Plot(xs, ps, label='model', color='0.6')\n",
    "\n",
    "# actual data\n",
    "cdf = thinkstats2.Cdf(weights, label='data')\n",
    "\n",
    "thinkplot.PrePlot(1)\n",
    "thinkplot.Cdf(cdf) \n",
    "thinkplot.Config(title='Birth weights',\n",
    "                 xlabel='Birth weight (pounds)',\n",
    "                 ylabel='CDF')"
   ]
  },
  {
   "cell_type": "code",
   "execution_count": 18,
   "metadata": {},
   "outputs": [],
   "source": [
    "def make_normal_plot(weights):\n",
    "    mean = weights.mean()\n",
    "    std = weights.std()\n",
    "    \n",
    "    xs = [-4, 4]\n",
    "    fxs, fys = thinkstats2.FitLine(xs, inter=mean, slope=std)\n",
    "    thinkplot.Plot(fxs, fys, color='gray', label='model')\n",
    "    \n",
    "    xs, ys = thinkstats2.NormalProbability(weights)\n",
    "    thinkplot.Plot(xs, ys, label='birth weights')"
   ]
  },
  {
   "cell_type": "code",
   "execution_count": 19,
   "metadata": {},
   "outputs": [
    {
     "data": {
      "image/png": "[encoded data removed]",
      "text/plain": [
       "<Figure size 432x288 with 1 Axes>"
      ]
     },
     "metadata": {
      "needs_background": "light"
     },
     "output_type": "display_data"
    }
   ],
   "source": [
    "make_normal_plot(weights)"
   ]
  },
  {
   "cell_type": "code",
   "execution_count": 20,
   "metadata": {},
   "outputs": [],
   "source": [
    "import random\n",
    "\n",
    "def expovariate(lam):\n",
    "    p = random.random()\n",
    "    x = -np.log(1-p) / lam\n",
    "    return x"
   ]
  },
  {
   "cell_type": "code",
   "execution_count": 21,
   "metadata": {},
   "outputs": [],
   "source": [
    "import brfss\n",
    "df = brfss.ReadBrfss()\n",
    "weights = df.wtkg2.dropna()"
   ]
  },
  {
   "cell_type": "code",
   "execution_count": 22,
   "metadata": {
    "scrolled": true
   },
   "outputs": [
    {
     "data": {
      "text/html": [
       "<div>\n",
       "<style scoped>\n",
       "    .dataframe tbody tr th:only-of-type {\n",
       "        vertical-align: middle;\n",
       "    }\n",
       "\n",
       "    .dataframe tbody tr th {\n",
       "        vertical-align: top;\n",
       "    }\n",
       "\n",
       "    .dataframe thead th {\n",
       "        text-align: right;\n",
       "    }\n",
       "</style>\n",
       "<table border=\"1\" class=\"dataframe\">\n",
       "  <thead>\n",
       "    <tr style=\"text-align: right;\">\n",
       "      <th></th>\n",
       "      <th>age</th>\n",
       "      <th>sex</th>\n",
       "      <th>wtyrago</th>\n",
       "      <th>finalwt</th>\n",
       "      <th>wtkg2</th>\n",
       "      <th>htm3</th>\n",
       "    </tr>\n",
       "  </thead>\n",
       "  <tbody>\n",
       "    <tr>\n",
       "      <th>0</th>\n",
       "      <td>82.0</td>\n",
       "      <td>2</td>\n",
       "      <td>76.363636</td>\n",
       "      <td>185.870345</td>\n",
       "      <td>70.91</td>\n",
       "      <td>157.0</td>\n",
       "    </tr>\n",
       "    <tr>\n",
       "      <th>1</th>\n",
       "      <td>65.0</td>\n",
       "      <td>2</td>\n",
       "      <td>72.727273</td>\n",
       "      <td>126.603027</td>\n",
       "      <td>72.73</td>\n",
       "      <td>163.0</td>\n",
       "    </tr>\n",
       "    <tr>\n",
       "      <th>2</th>\n",
       "      <td>48.0</td>\n",
       "      <td>2</td>\n",
       "      <td>NaN</td>\n",
       "      <td>181.063210</td>\n",
       "      <td>NaN</td>\n",
       "      <td>165.0</td>\n",
       "    </tr>\n",
       "    <tr>\n",
       "      <th>3</th>\n",
       "      <td>61.0</td>\n",
       "      <td>1</td>\n",
       "      <td>73.636364</td>\n",
       "      <td>517.926275</td>\n",
       "      <td>73.64</td>\n",
       "      <td>170.0</td>\n",
       "    </tr>\n",
       "    <tr>\n",
       "      <th>4</th>\n",
       "      <td>26.0</td>\n",
       "      <td>1</td>\n",
       "      <td>88.636364</td>\n",
       "      <td>1252.624630</td>\n",
       "      <td>88.64</td>\n",
       "      <td>185.0</td>\n",
       "    </tr>\n",
       "    <tr>\n",
       "      <th>...</th>\n",
       "      <td>...</td>\n",
       "      <td>...</td>\n",
       "      <td>...</td>\n",
       "      <td>...</td>\n",
       "      <td>...</td>\n",
       "      <td>...</td>\n",
       "    </tr>\n",
       "    <tr>\n",
       "      <th>414504</th>\n",
       "      <td>23.0</td>\n",
       "      <td>1</td>\n",
       "      <td>84.090909</td>\n",
       "      <td>43.439320</td>\n",
       "      <td>88.64</td>\n",
       "      <td>191.0</td>\n",
       "    </tr>\n",
       "    <tr>\n",
       "      <th>414505</th>\n",
       "      <td>49.0</td>\n",
       "      <td>2</td>\n",
       "      <td>70.454545</td>\n",
       "      <td>6.216538</td>\n",
       "      <td>72.73</td>\n",
       "      <td>170.0</td>\n",
       "    </tr>\n",
       "    <tr>\n",
       "      <th>414506</th>\n",
       "      <td>45.0</td>\n",
       "      <td>1</td>\n",
       "      <td>86.363636</td>\n",
       "      <td>20.617560</td>\n",
       "      <td>90.91</td>\n",
       "      <td>178.0</td>\n",
       "    </tr>\n",
       "    <tr>\n",
       "      <th>414507</th>\n",
       "      <td>52.0</td>\n",
       "      <td>2</td>\n",
       "      <td>89.090909</td>\n",
       "      <td>11.188138</td>\n",
       "      <td>89.09</td>\n",
       "      <td>157.0</td>\n",
       "    </tr>\n",
       "    <tr>\n",
       "      <th>414508</th>\n",
       "      <td>38.0</td>\n",
       "      <td>1</td>\n",
       "      <td>75.000000</td>\n",
       "      <td>25.989792</td>\n",
       "      <td>75.00</td>\n",
       "      <td>178.0</td>\n",
       "    </tr>\n",
       "  </tbody>\n",
       "</table>\n",
       "<p>414509 rows × 6 columns</p>\n",
       "</div>"
      ],
      "text/plain": [
       "         age  sex    wtyrago      finalwt  wtkg2   htm3\n",
       "0       82.0    2  76.363636   185.870345  70.91  157.0\n",
       "1       65.0    2  72.727273   126.603027  72.73  163.0\n",
       "2       48.0    2        NaN   181.063210    NaN  165.0\n",
       "3       61.0    1  73.636364   517.926275  73.64  170.0\n",
       "4       26.0    1  88.636364  1252.624630  88.64  185.0\n",
       "...      ...  ...        ...          ...    ...    ...\n",
       "414504  23.0    1  84.090909    43.439320  88.64  191.0\n",
       "414505  49.0    2  70.454545     6.216538  72.73  170.0\n",
       "414506  45.0    1  86.363636    20.617560  90.91  178.0\n",
       "414507  52.0    2  89.090909    11.188138  89.09  157.0\n",
       "414508  38.0    1  75.000000    25.989792  75.00  178.0\n",
       "\n",
       "[414509 rows x 6 columns]"
      ]
     },
     "execution_count": 22,
     "metadata": {},
     "output_type": "execute_result"
    }
   ],
   "source": [
    "df"
   ]
  },
  {
   "cell_type": "code",
   "execution_count": 23,
   "metadata": {
    "scrolled": false
   },
   "outputs": [
    {
     "data": {
      "image/png": "[encoded data removed]",
      "text/plain": [
       "<Figure size 402.375x360 with 1 Axes>"
      ]
     },
     "metadata": {
      "needs_background": "light"
     },
     "output_type": "display_data"
    }
   ],
   "source": [
    "import seaborn as sns\n",
    "sns.displot(df, x=\"htm3\", hue=\"sex\", bins=20, stat='density',\\\n",
    "            common_norm=False, element=\"step\")\n",
    "plt.show()"
   ]
  },
  {
   "cell_type": "code",
   "execution_count": 24,
   "metadata": {
    "scrolled": true
   },
   "outputs": [
    {
     "data": {
      "text/plain": [
       "<AxesSubplot:>"
      ]
     },
     "execution_count": 24,
     "metadata": {},
     "output_type": "execute_result"
    },
    {
     "data": {
      "image/png": "[encoded data removed]",
      "text/plain": [
       "<Figure size 432x288 with 1 Axes>"
      ]
     },
     "metadata": {
      "needs_background": "light"
     },
     "output_type": "display_data"
    }
   ],
   "source": [
    "# not sure i understand the discrepancy in y values\n",
    "# in matplotlib/sns plots bin size maybe?\n",
    "\n",
    "male_heights = df[df.sex==1].htm3\n",
    "female_heights = df[df.sex==2].htm3\n",
    "\n",
    "male_heights.hist(bins=20, density=1)\n",
    "female_heights.hist(bins=20, density=1)"
   ]
  },
  {
   "cell_type": "code",
   "execution_count": 25,
   "metadata": {},
   "outputs": [
    {
     "data": {
      "image/png": "[encoded data removed]",
      "text/plain": [
       "<Figure size 432x288 with 1 Axes>"
      ]
     },
     "metadata": {
      "needs_background": "light"
     },
     "output_type": "display_data"
    }
   ],
   "source": [
    "plt.hist(male_heights, bins=30, density=1, alpha=.3)\n",
    "plt.xlabel('male_heights')\n",
    "plt.ylabel('PMF')\n",
    "plt.show()"
   ]
  },
  {
   "cell_type": "code",
   "execution_count": 26,
   "metadata": {},
   "outputs": [],
   "source": [
    "upper_bound = 185.42\n",
    "lower_bound = 177.79"
   ]
  },
  {
   "cell_type": "code",
   "execution_count": 27,
   "metadata": {},
   "outputs": [
    {
     "name": "stdout",
     "output_type": "stream",
     "text": [
      "about 34.37% of the male population is tall enough to be a blue man\n"
     ]
    }
   ],
   "source": [
    "below_upper = stats.norm.cdf(upper_bound, loc=male_heights.mean(), scale=male_heights.std())\n",
    "below_lower = stats.norm.cdf(lower_bound, loc=male_heights.mean(), scale=male_heights.std())\n",
    "between_upper_and_lower = round((below_upper - below_lower)*100, 2)\n",
    "print('about {}% of the male population is tall enough to be a blue man'.format(between_upper_and_lower))"
   ]
  },
  {
   "cell_type": "code",
   "execution_count": null,
   "metadata": {},
   "outputs": [],
   "source": []
  }
 ],
 "metadata": {
  "kernelspec": {
   "display_name": "Python 3",
   "language": "python",
   "name": "python3"
  },
  "language_info": {
   "codemirror_mode": {
    "name": "ipython",
    "version": 3
   },
   "file_extension": ".py",
   "mimetype": "text/x-python",
   "name": "python",
   "nbconvert_exporter": "python",
   "pygments_lexer": "ipython3",
   "version": "3.7.4"
  }
 },
 "nbformat": 4,
 "nbformat_minor": 4
}
