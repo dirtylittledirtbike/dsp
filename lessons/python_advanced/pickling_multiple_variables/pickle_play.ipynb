{
 "cells": [
  {
   "cell_type": "code",
   "execution_count": 18,
   "metadata": {},
   "outputs": [],
   "source": [
    "import pickle\n",
    "import pandas as pd"
   ]
  },
  {
   "cell_type": "code",
   "execution_count": 38,
   "metadata": {},
   "outputs": [],
   "source": [
    "df1 = pd.read_csv('https://raw.githubusercontent.com/nytimes/covid-19-data/master/us-counties.csv')\n",
    "df2 = pd.read_csv('https://raw.githubusercontent.com/dirtylittledirtbike/census_data/master/census_formatted3.csv')\n",
    "my_string = 'hey'\n",
    "my_list = [1,2,3]\n",
    "my_dict = {'a':[1,2,3], 'b':[4,5,6]}"
   ]
  },
  {
   "cell_type": "code",
   "execution_count": 39,
   "metadata": {},
   "outputs": [],
   "source": [
    "# df1.columns.to_list()\n",
    "# df2.columns.to_list()"
   ]
  },
  {
   "cell_type": "code",
   "execution_count": 40,
   "metadata": {},
   "outputs": [],
   "source": [
    "with open('my.pickle', 'wb') as file:\n",
    "    pickle.dump(df1, file)\n",
    "    pickle.dump(df2, file)\n",
    "    pickle.dump(my_string, file)\n",
    "    pickle.dump(my_list, file)\n",
    "    pickle.dump(my_dict, file)"
   ]
  },
  {
   "cell_type": "code",
   "execution_count": 41,
   "metadata": {},
   "outputs": [],
   "source": [
    "# varible_list = [df1, df2, my_string, my_list, my_dict]"
   ]
  },
  {
   "cell_type": "code",
   "execution_count": 42,
   "metadata": {},
   "outputs": [],
   "source": [
    "del df1\n",
    "del df2\n",
    "del my_string\n",
    "del my_list\n",
    "del my_dict"
   ]
  },
  {
   "cell_type": "code",
   "execution_count": null,
   "metadata": {},
   "outputs": [],
   "source": []
  },
  {
   "cell_type": "code",
   "execution_count": 43,
   "metadata": {},
   "outputs": [],
   "source": [
    "with open('my.pickle', 'rb') as file:\n",
    "    df1 = pickle.load(file)\n",
    "    df2 = pickle.load(file)\n",
    "    my_string = pickle.load(file)\n",
    "    my_list = pickle.load(file)\n",
    "    my_dict = pickle.load(file)"
   ]
  },
  {
   "cell_type": "code",
   "execution_count": 44,
   "metadata": {},
   "outputs": [],
   "source": [
    "variable_list = [df1, df2, my_string, my_list, my_dict]"
   ]
  },
  {
   "cell_type": "code",
   "execution_count": 45,
   "metadata": {},
   "outputs": [
    {
     "name": "stdout",
     "output_type": "stream",
     "text": [
      "<class 'pandas.core.frame.DataFrame'>\n",
      "<class 'pandas.core.frame.DataFrame'>\n",
      "<class 'str'>\n",
      "<class 'list'>\n",
      "<class 'dict'>\n"
     ]
    }
   ],
   "source": [
    "for var in variable_list:\n",
    "    print(type(var))"
   ]
  },
  {
   "cell_type": "code",
   "execution_count": 20,
   "metadata": {},
   "outputs": [
    {
     "data": {
      "text/html": [
       "<div>\n",
       "<style scoped>\n",
       "    .dataframe tbody tr th:only-of-type {\n",
       "        vertical-align: middle;\n",
       "    }\n",
       "\n",
       "    .dataframe tbody tr th {\n",
       "        vertical-align: top;\n",
       "    }\n",
       "\n",
       "    .dataframe thead th {\n",
       "        text-align: right;\n",
       "    }\n",
       "</style>\n",
       "<table border=\"1\" class=\"dataframe\">\n",
       "  <thead>\n",
       "    <tr style=\"text-align: right;\">\n",
       "      <th></th>\n",
       "      <th>population</th>\n",
       "      <th>state</th>\n",
       "      <th>county</th>\n",
       "    </tr>\n",
       "  </thead>\n",
       "  <tbody>\n",
       "    <tr>\n",
       "      <td>0</td>\n",
       "      <td>55869</td>\n",
       "      <td>Alabama</td>\n",
       "      <td>Autauga</td>\n",
       "    </tr>\n",
       "    <tr>\n",
       "      <td>1</td>\n",
       "      <td>223234</td>\n",
       "      <td>Alabama</td>\n",
       "      <td>Baldwin</td>\n",
       "    </tr>\n",
       "    <tr>\n",
       "      <td>2</td>\n",
       "      <td>24686</td>\n",
       "      <td>Alabama</td>\n",
       "      <td>Barbour</td>\n",
       "    </tr>\n",
       "    <tr>\n",
       "      <td>3</td>\n",
       "      <td>22394</td>\n",
       "      <td>Alabama</td>\n",
       "      <td>Bibb</td>\n",
       "    </tr>\n",
       "    <tr>\n",
       "      <td>4</td>\n",
       "      <td>57826</td>\n",
       "      <td>Alabama</td>\n",
       "      <td>Blount</td>\n",
       "    </tr>\n",
       "    <tr>\n",
       "      <td>...</td>\n",
       "      <td>...</td>\n",
       "      <td>...</td>\n",
       "      <td>...</td>\n",
       "    </tr>\n",
       "    <tr>\n",
       "      <td>3142</td>\n",
       "      <td>6927</td>\n",
       "      <td>Wyoming</td>\n",
       "      <td>Weston</td>\n",
       "    </tr>\n",
       "    <tr>\n",
       "      <td>3143</td>\n",
       "      <td>8336817</td>\n",
       "      <td>New York</td>\n",
       "      <td>New York City</td>\n",
       "    </tr>\n",
       "    <tr>\n",
       "      <td>3144</td>\n",
       "      <td>450975</td>\n",
       "      <td>Missouri</td>\n",
       "      <td>Kansas City</td>\n",
       "    </tr>\n",
       "    <tr>\n",
       "      <td>3145</td>\n",
       "      <td>48162</td>\n",
       "      <td>Missouri</td>\n",
       "      <td>Joplin</td>\n",
       "    </tr>\n",
       "    <tr>\n",
       "      <td>3146</td>\n",
       "      <td>218195</td>\n",
       "      <td>New Mexico</td>\n",
       "      <td>Doña Ana</td>\n",
       "    </tr>\n",
       "  </tbody>\n",
       "</table>\n",
       "<p>3147 rows × 3 columns</p>\n",
       "</div>"
      ],
      "text/plain": [
       "      population       state         county\n",
       "0          55869     Alabama        Autauga\n",
       "1         223234     Alabama        Baldwin\n",
       "2          24686     Alabama        Barbour\n",
       "3          22394     Alabama           Bibb\n",
       "4          57826     Alabama         Blount\n",
       "...          ...         ...            ...\n",
       "3142        6927     Wyoming         Weston\n",
       "3143     8336817    New York  New York City\n",
       "3144      450975    Missouri    Kansas City\n",
       "3145       48162    Missouri         Joplin\n",
       "3146      218195  New Mexico       Doña Ana\n",
       "\n",
       "[3147 rows x 3 columns]"
      ]
     },
     "execution_count": 20,
     "metadata": {},
     "output_type": "execute_result"
    }
   ],
   "source": [
    "df2"
   ]
  },
  {
   "cell_type": "code",
   "execution_count": 5,
   "metadata": {},
   "outputs": [
    {
     "data": {
      "text/plain": [
       "0"
      ]
     },
     "execution_count": 5,
     "metadata": {},
     "output_type": "execute_result"
    }
   ],
   "source": [
    "from collections import defaultdict\n",
    "\n",
    "fruit_count = defaultdict(int)\n",
    "fruits = ['apple', 'orange', 'orange', 'pear']\n",
    "\n",
    "for fruit in fruits:\n",
    "    fruit_count[fruit] += 1\n",
    "    \n"
   ]
  },
  {
   "cell_type": "code",
   "execution_count": 8,
   "metadata": {},
   "outputs": [
    {
     "name": "stdout",
     "output_type": "stream",
     "text": [
      "tic tac toe\n",
      "pick up sticks\n"
     ]
    }
   ],
   "source": [
    "games = ['tic tac toe', 'hopscotch', ['jacks', 'marbles'], 'tag']\n",
    "recess_games = list(games)\n",
    "\n",
    "games[0] = 'simon says'\n",
    "games[2][0] = 'pick up sticks'\n",
    "\n",
    "print(recess_games[0])\n",
    "print(recess_games[2][0])"
   ]
  },
  {
   "cell_type": "code",
   "execution_count": 10,
   "metadata": {},
   "outputs": [
    {
     "name": "stdout",
     "output_type": "stream",
     "text": [
      "hair dryer\n"
     ]
    }
   ],
   "source": [
    "prices = [10.99, 35.50, 3.89, 2.97]\n",
    "items = ['calendar', 'hair dryer', 'birthday card', 'magnet']\n",
    "\n",
    "for idx, prices in enumerate(prices):\n",
    "    if prices > 20:\n",
    "        print(items[idx])"
   ]
  },
  {
   "cell_type": "code",
   "execution_count": null,
   "metadata": {},
   "outputs": [],
   "source": []
  }
 ],
 "metadata": {
  "kernelspec": {
   "display_name": "Python 3",
   "language": "python",
   "name": "python3"
  },
  "language_info": {
   "codemirror_mode": {
    "name": "ipython",
    "version": 3
   },
   "file_extension": ".py",
   "mimetype": "text/x-python",
   "name": "python",
   "nbconvert_exporter": "python",
   "pygments_lexer": "ipython3",
   "version": "3.7.4"
  }
 },
 "nbformat": 4,
 "nbformat_minor": 2
}
