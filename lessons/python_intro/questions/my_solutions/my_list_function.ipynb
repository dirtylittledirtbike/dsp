{
 "cells": [
  {
   "cell_type": "markdown",
   "metadata": {},
   "source": [
    "<h3 id=\"Description\">Description<a class=\"anchor-link\" href=\"#Description\">&#182;</a></h3><p>Main >\n",
    "<ul>\n",
    "<li>Write a function that requires use of a list</li>\n",
    "</ul>\n",
    "<p>Lesson LOs:</p>\n",
    "<ul>\n",
    "<li>Use loop and enumerate to operate on sequential data</li>\n",
    "<li>Write a python function</li>\n",
    "<li>Document code effectively</li>\n",
    "</ul>\n",
    "<p>Additional learning objectives:</p>\n",
    "<ul>\n",
    "<li>Operate on lists using sorted()</li>\n",
    "<li>Use python string manipulation functions.</li>\n",
    "</ul>\n",
    "<p>Write a function called <code>find_first_names()</code> that takes in <code>students_input</cod>\n",
    "<p>The list of first names returned by <code>find_first_names()</code> should be sorted.</p>"
   ]
  },
  {
   "cell_type": "code",
   "execution_count": 36,
   "metadata": {},
   "outputs": [],
   "source": [
    "names_list = ['Noel Kirsh', 'Collins Westnedge', 'Lindsey Scott', 'Lindsey Steven']"
   ]
  },
  {
   "cell_type": "code",
   "execution_count": 37,
   "metadata": {},
   "outputs": [],
   "source": [
    "def find_first_names(students_input):\n",
    "    sorted_first_names = sorted([name.split()[0] for name in students_input])\n",
    "    return sorted_first_names\n",
    "    "
   ]
  },
  {
   "cell_type": "code",
   "execution_count": 38,
   "metadata": {},
   "outputs": [
    {
     "data": {
      "text/plain": [
       "['Collins', 'Lindsey', 'Lindsey', 'Noel']"
      ]
     },
     "execution_count": 38,
     "metadata": {},
     "output_type": "execute_result"
    }
   ],
   "source": [
    "find_first_names(names_list)"
   ]
  }
 ],
 "metadata": {
  "kernelspec": {
   "display_name": "Python 3",
   "language": "python",
   "name": "python3"
  },
  "language_info": {
   "codemirror_mode": {
    "name": "ipython",
    "version": 3
   },
   "file_extension": ".py",
   "mimetype": "text/x-python",
   "name": "python",
   "nbconvert_exporter": "python",
   "pygments_lexer": "ipython3",
   "version": "3.7.4"
  }
 },
 "nbformat": 4,
 "nbformat_minor": 2
}
