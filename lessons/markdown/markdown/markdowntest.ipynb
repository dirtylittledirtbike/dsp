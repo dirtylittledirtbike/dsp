{
 "cells": [
  {
   "cell_type": "markdown",
   "metadata": {},
   "source": [
    "### heading\n",
    "1. *italics*\n",
    "2. **bold text**\n",
    "\n",
    "### heading 2\n",
    "- bullet\n",
    "- bullet\n",
    "\n",
    "### heading 3\n",
    "> - bullet indent\n",
    "> - bullet indent\n",
    "\n",
    "### heading 4\n",
    "> 1. numbered indent\n",
    "> 2. [click me](https://google.com \"hover text\")\n",
    "\n",
    "text separators\n",
    "\n",
    "---\n",
    "more text\n",
    "\n",
    "---\n",
    "more\n",
    "\n",
    "---\n",
    "### Python code block:\n",
    "```python\n",
    "def get_max(list1):\n",
    "    max_val = list1[0]\n",
    "    for val in list1:\n",
    "        if val > max_val:\n",
    "            max_val = val\n",
    "    return max_val     \n",
    "```\n",
    "\n",
    "### Bash/console code block:\n",
    "```console\n",
    "collinswestnedge@Collinss-MacBook-Pro ~ % git status\n",
    "collinswestnedge@Collinss-MacBook-Pro ~ % git remote -v\n",
    "```\n",
    "\n",
    "### C# code block:\n",
    "```csharp\n",
    "private void index(){\n",
    "  MessageBox.Show(\"hello world\");\n",
    "}\n",
    "``` \n",
    "\n",
    "### Tables:\n",
    "Name|Gender|Weight_(lbs)|Power\n",
    "---|---|---|---\n",
    "Sarah Jessica Parker|F|130|Blogging\n",
    "Thanos|M|1000|Sparkle Glove\n",
    "Frodo|M|75|NaN\n",
    "\n"
   ]
  },
  {
   "cell_type": "code",
   "execution_count": 5,
   "metadata": {},
   "outputs": [
    {
     "name": "stdout",
     "output_type": "stream",
     "text": [
      "200\n"
     ]
    }
   ],
   "source": [
    "def get_max(list1):\n",
    "    max_val = list1[0]\n",
    "    for val in list1:\n",
    "        if val > max_val:\n",
    "            max_val = val\n",
    "            \n",
    "    return max_val  \n",
    "\n",
    "vals = [1, 2, 3, 4, 5, 8, 100, -1, -100, 200, 5]\n",
    "print(get_max(vals))"
   ]
  },
  {
   "cell_type": "code",
   "execution_count": null,
   "metadata": {},
   "outputs": [],
   "source": []
  }
 ],
 "metadata": {
  "kernelspec": {
   "display_name": "Python 3",
   "language": "python",
   "name": "python3"
  },
  "language_info": {
   "codemirror_mode": {
    "name": "ipython",
    "version": 3
   },
   "file_extension": ".py",
   "mimetype": "text/x-python",
   "name": "python",
   "nbconvert_exporter": "python",
   "pygments_lexer": "ipython3",
   "version": "3.7.4"
  }
 },
 "nbformat": 4,
 "nbformat_minor": 2
}
